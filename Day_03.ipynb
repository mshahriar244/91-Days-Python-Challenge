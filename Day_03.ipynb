{
 "cells": [
  {
   "cell_type": "markdown",
   "id": "95da6a0a",
   "metadata": {},
   "source": [
    "# 1. List\n",
    "A list is a mutable, ordered collection of elements. It is one of the most versatile data structures in Python, allowing you to store a collection of items which can be of different types (integers, strings, objects, etc.).\n",
    "\n",
    "Key Characteristics:\n",
    "\n",
    "Mutable: You can change the contents of a list after it has been created (add, remove, or modify elements).\n",
    "Ordered: Elements have a defined order, which will not change unless explicitly modified.\n",
    "Allows duplicates: Lists can contain duplicate elements."
   ]
  },
  {
   "cell_type": "code",
   "execution_count": 1,
   "id": "d245c395",
   "metadata": {},
   "outputs": [
    {
     "name": "stdout",
     "output_type": "stream",
     "text": [
      "apple\n",
      "['apple', 'blueberry', 'date', 'elderberry']\n"
     ]
    }
   ],
   "source": [
    "# Creating a list of fruits\n",
    "fruits = [\"apple\", \"banana\", \"cherry\", \"date\"]\n",
    "\n",
    "# Accessing elements by index\n",
    "print(fruits[0])  # Output: apple\n",
    "\n",
    "# Modifying an element\n",
    "fruits[1] = \"blueberry\"\n",
    "\n",
    "# Adding a new element\n",
    "fruits.append(\"elderberry\")\n",
    "\n",
    "# Removing an element\n",
    "fruits.remove(\"cherry\")\n",
    "\n",
    "# Final list\n",
    "print(fruits)  # Output: ['apple', 'blueberry', 'date', 'elderberry']\n"
   ]
  },
  {
   "cell_type": "markdown",
   "id": "47983ddf",
   "metadata": {},
   "source": [
    "# 2. Tuple\n",
    "A tuple is similar to a list but with one key difference: tuples are immutable. This means once a tuple is created, its elements cannot be changed, added, or removed. Tuples are often used for data that should not be altered throughout the program.\n",
    "\n",
    "Key Characteristics:\n",
    "\n",
    "Immutable: Elements cannot be modified after creation.\n",
    "Ordered: Elements maintain their order.\n",
    "Allows duplicates: Tuples can contain duplicate elements."
   ]
  },
  {
   "cell_type": "code",
   "execution_count": 2,
   "id": "9d754060",
   "metadata": {},
   "outputs": [
    {
     "name": "stdout",
     "output_type": "stream",
     "text": [
      "10.5\n"
     ]
    }
   ],
   "source": [
    "# Creating a tuple to represent coordinates\n",
    "coordinates = (10.5, 20.3)\n",
    "\n",
    "# Accessing elements by index\n",
    "print(coordinates[0])  # Output: 10.5\n",
    "\n",
    "# Tuples do not support item assignment\n",
    "# coordinates[0] = 15.0  # This would raise a TypeError\n"
   ]
  },
  {
   "cell_type": "markdown",
   "id": "506281c3",
   "metadata": {},
   "source": [
    "# 3. Dictionary\n",
    "A dictionary is an unordered collection of key-value pairs. Each key is unique within a dictionary and is used to access the corresponding value. Dictionaries are highly efficient for lookups and are often used to store data that can be associated with a unique identifier.\n",
    "\n",
    "Key Characteristics:\n",
    "\n",
    "Unordered: Does not maintain order of elements.\n",
    "Key-value pairs: Each element consists of a key and a value.\n",
    "Keys must be unique: No two keys can be the same within a single dictionary.\n",
    "Mutable: You can change values, add new key-value pairs, or remove them."
   ]
  },
  {
   "cell_type": "code",
   "execution_count": 3,
   "id": "a272078b",
   "metadata": {},
   "outputs": [
    {
     "name": "stdout",
     "output_type": "stream",
     "text": [
      "John\n",
      "{'name': 'John', 'age': 22, 'grade': 'A'}\n"
     ]
    }
   ],
   "source": [
    "# Creating a dictionary to store student information\n",
    "student = {\n",
    "    \"name\": \"John\",\n",
    "    \"age\": 21,\n",
    "    \"courses\": [\"Math\", \"Physics\"]\n",
    "}\n",
    "\n",
    "# Accessing values by key\n",
    "print(student[\"name\"])  # Output: John\n",
    "\n",
    "# Modifying a value\n",
    "student[\"age\"] = 22\n",
    "\n",
    "# Adding a new key-value pair\n",
    "student[\"grade\"] = \"A\"\n",
    "\n",
    "# Removing a key-value pair\n",
    "del student[\"courses\"]\n",
    "\n",
    "# Final dictionary\n",
    "print(student)  # Output: {'name': 'John', 'age': 22, 'grade': 'A'}\n"
   ]
  },
  {
   "cell_type": "markdown",
   "id": "9061c071",
   "metadata": {},
   "source": [
    "# 4. Set\n",
    "A set is an unordered collection of unique elements. Sets are useful for storing items where uniqueness is important, and for performing operations like union, intersection, and difference.\n",
    "\n",
    "Key Characteristics:\n",
    "\n",
    "Unordered: No defined order for elements.\n",
    "Unique elements: No duplicate elements are allowed.\n",
    "Mutable: Elements can be added or removed (though elements themselves must be immutable).\n"
   ]
  },
  {
   "cell_type": "code",
   "execution_count": 4,
   "id": "65bb1b81",
   "metadata": {},
   "outputs": [
    {
     "name": "stdout",
     "output_type": "stream",
     "text": [
      "{1, 3, 4, 5, 6, 7, 8, 9}\n",
      "{5, 6, 7}\n"
     ]
    }
   ],
   "source": [
    "# Creating a set of unique numbers\n",
    "unique_numbers = {1, 2, 3, 4, 5, 5, 6}  # Duplicates are automatically removed\n",
    "\n",
    "# Adding an element\n",
    "unique_numbers.add(7)\n",
    "\n",
    "# Removing an element\n",
    "unique_numbers.remove(2)\n",
    "\n",
    "# Performing set operations\n",
    "more_numbers = {5, 6, 7, 8, 9}\n",
    "\n",
    "# Union: combines elements from both sets\n",
    "union_set = unique_numbers.union(more_numbers)\n",
    "print(union_set)  # Output: {1, 3, 4, 5, 6, 7, 8, 9}\n",
    "\n",
    "# Intersection: elements present in both sets\n",
    "intersection_set = unique_numbers.intersection(more_numbers)\n",
    "print(intersection_set)  # Output: {5, 6, 7}\n"
   ]
  },
  {
   "cell_type": "code",
   "execution_count": null,
   "id": "7b460fd4",
   "metadata": {},
   "outputs": [],
   "source": []
  }
 ],
 "metadata": {
  "kernelspec": {
   "display_name": "Python 3 (ipykernel)",
   "language": "python",
   "name": "python3"
  },
  "language_info": {
   "codemirror_mode": {
    "name": "ipython",
    "version": 3
   },
   "file_extension": ".py",
   "mimetype": "text/x-python",
   "name": "python",
   "nbconvert_exporter": "python",
   "pygments_lexer": "ipython3",
   "version": "3.11.5"
  }
 },
 "nbformat": 4,
 "nbformat_minor": 5
}
