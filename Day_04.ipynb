{
 "cells": [
  {
   "cell_type": "markdown",
   "id": "75a0c9b3",
   "metadata": {},
   "source": [
    "# In Python, the else if concept is handled using elif, which stands for \"else if.\" It is used to add additional conditions in an if-else control structure.\n",
    "\n",
    "Here’s a detailed explanation with an example:\n",
    "\n",
    "if-elif-else Structure\n",
    "The if-elif-else structure allows you to check multiple conditions and execute a block of code when the first condition that evaluates to True is encountered. The general syntax is:"
   ]
  },
  {
   "cell_type": "code",
   "execution_count": null,
   "id": "dcf6ad25",
   "metadata": {},
   "outputs": [],
   "source": [
    "if condition1:\n",
    "    # Block of code executed if condition1 is True\n",
    "    pass  # Replace this with the actual code\n",
    "elif condition2:\n",
    "    # Block of code executed if condition2 is True\n",
    "    pass  # Replace this with the actual code\n",
    "elif condition3:\n",
    "    # Block of code executed if condition3 is True\n",
    "    pass  # Replace this with the actual code\n",
    "else:\n",
    "    # Block of code executed if none of the conditions are True\n",
    "    pass  # Replace this with the actual code\n"
   ]
  },
  {
   "cell_type": "markdown",
   "id": "addc0edc",
   "metadata": {},
   "source": [
    "# if starts the conditional statement.\n",
    "elif (short for else if) allows you to check multiple expressions for True and execute a block of code as soon as one of the conditions is True.\n",
    "else allows you to execute a block of code when none of the above conditions are True.\n",
    "Example\n",
    "Let's consider an example where we determine the grade of a student based on their score"
   ]
  },
  {
   "cell_type": "code",
   "execution_count": 5,
   "id": "a4c93a23",
   "metadata": {},
   "outputs": [
    {
     "name": "stdout",
     "output_type": "stream",
     "text": [
      "The grade is: B\n"
     ]
    }
   ],
   "source": [
    "# Define the score\n",
    "score = 85\n",
    "\n",
    "# Determine the grade\n",
    "if score >= 90:\n",
    "    grade = 'A'\n",
    "elif score >= 80:\n",
    "    grade = 'B'\n",
    "elif score >= 70:\n",
    "    grade = 'C'\n",
    "elif score >= 60:\n",
    "    grade = 'D'\n",
    "else:\n",
    "    grade = 'F'\n",
    "\n",
    "# Print the result\n",
    "print(f'The grade is: {grade}')\n"
   ]
  },
  {
   "cell_type": "markdown",
   "id": "7cbcda43",
   "metadata": {},
   "source": [
    "# In this example:\n",
    "\n",
    "If the score is 90 or above, the grade will be 'A'.\n",
    "\n",
    "If the score is between 80 and 89, the grade will be 'B'.\n",
    "\n",
    "If the score is between 70 and 79, the grade will be 'C'.\n",
    "\n",
    "If the score is between 60 and 69, the grade will be 'D'.\n",
    "\n",
    "If the score is below 60, the grade will be 'F'."
   ]
  }
 ],
 "metadata": {
  "kernelspec": {
   "display_name": "Python 3 (ipykernel)",
   "language": "python",
   "name": "python3"
  },
  "language_info": {
   "codemirror_mode": {
    "name": "ipython",
    "version": 3
   },
   "file_extension": ".py",
   "mimetype": "text/x-python",
   "name": "python",
   "nbconvert_exporter": "python",
   "pygments_lexer": "ipython3",
   "version": "3.11.5"
  }
 },
 "nbformat": 4,
 "nbformat_minor": 5
}
