{
 "cells": [
  {
   "cell_type": "markdown",
   "id": "d3d92232",
   "metadata": {},
   "source": [
    "# While Loop\n",
    "The \"while\" loop in Python is used to repeatedly execute a block of code as long as a specified condition is true. The syntax for a \"while\" loop is:"
   ]
  },
  {
   "cell_type": "code",
   "execution_count": null,
   "id": "f1dd4b4e",
   "metadata": {},
   "outputs": [],
   "source": [
    "while condition:\n",
    "    # code block\n"
   ]
  },
  {
   "cell_type": "markdown",
   "id": "ee32e407",
   "metadata": {},
   "source": [
    "# Example\n",
    "Let's create an example where we use a \"while\" loop to print the numbers from 1 to 5."
   ]
  },
  {
   "cell_type": "code",
   "execution_count": 1,
   "id": "547fad9e",
   "metadata": {},
   "outputs": [
    {
     "name": "stdout",
     "output_type": "stream",
     "text": [
      "Counter value: 1\n",
      "Counter value: 2\n",
      "Counter value: 3\n",
      "Counter value: 4\n",
      "Counter value: 5\n",
      "Loop ended.\n"
     ]
    }
   ],
   "source": [
    "# Initialize the counter\n",
    "counter = 1\n",
    "\n",
    "# Condition for the while loop\n",
    "while counter <= 5:\n",
    "    print(\"Counter value:\", counter)\n",
    "    # Increment the counter\n",
    "    counter += 1\n",
    "\n",
    "print(\"Loop ended.\")\n"
   ]
  },
  {
   "cell_type": "markdown",
   "id": "2663c7e7",
   "metadata": {},
   "source": [
    "# Explanation\n",
    "Initialize the counter: We start by initializing a variable, counter, to 1.\n",
    "Condition for the while loop: The while loop checks if the counter is less than or equal to 5. If the condition is true, it enters the loop.\n",
    "Print the counter value: Inside the loop, we print the current value of the counter.\n",
    "Increment the counter: We then increment the counter by 1 using counter += 1.\n",
    "Check the condition again: The loop will continue to run until the counter is greater than 5.\n",
    "End of the loop: Once the condition becomes false, the loop ends, and the program prints \"Loop ended.\""
   ]
  },
  {
   "cell_type": "markdown",
   "id": "c745013d",
   "metadata": {},
   "source": [
    "Let's create a more comprehensive example using a \"while\" loop. We will write a simple program that simulates a guessing game. The program will generate a random number between 1 and 100, and the user will have to guess the number. The loop will continue until the user guesses the correct number.\n",
    "\n",
    "Example: Number Guessing Game"
   ]
  },
  {
   "cell_type": "code",
   "execution_count": 2,
   "id": "468f353f",
   "metadata": {},
   "outputs": [
    {
     "name": "stdout",
     "output_type": "stream",
     "text": [
      "Welcome to the Number Guessing Game!\n",
      "I'm thinking of a number between 1 and 100. Can you guess it?\n",
      "Enter your guess: 22\n",
      "Too low! Try again.\n",
      "Enter your guess: 66\n",
      "Too high! Try again.\n",
      "Enter your guess: 44\n",
      "Too high! Try again.\n",
      "Enter your guess: 30\n",
      "Too high! Try again.\n",
      "Enter your guess: 25\n",
      "Too low! Try again.\n",
      "Enter your guess: 27\n",
      "Congratulations! You've guessed the number in 6 attempts.\n",
      "Game Over!\n"
     ]
    }
   ],
   "source": [
    "import random\n",
    "\n",
    "# Generate a random number between 1 and 100\n",
    "secret_number = random.randint(1, 100)\n",
    "\n",
    "# Initialize the number of attempts\n",
    "attempts = 0\n",
    "\n",
    "# Boolean to keep track of whether the number has been guessed\n",
    "guessed = False\n",
    "\n",
    "print(\"Welcome to the Number Guessing Game!\")\n",
    "print(\"I'm thinking of a number between 1 and 100. Can you guess it?\")\n",
    "\n",
    "# Start the while loop\n",
    "while not guessed:\n",
    "    # Increment the attempt counter\n",
    "    attempts += 1\n",
    "    \n",
    "    # Get the user's guess\n",
    "    guess = int(input(\"Enter your guess: \"))\n",
    "    \n",
    "    # Check the user's guess\n",
    "    if guess < secret_number:\n",
    "        print(\"Too low! Try again.\")\n",
    "    elif guess > secret_number:\n",
    "        print(\"Too high! Try again.\")\n",
    "    else:\n",
    "        guessed = True\n",
    "        print(f\"Congratulations! You've guessed the number in {attempts} attempts.\")\n",
    "\n",
    "print(\"Game Over!\")\n"
   ]
  },
  {
   "cell_type": "markdown",
   "id": "87b4eddc",
   "metadata": {},
   "source": [
    "# Explanation\n",
    "Import the random module: This module is used to generate a random number.\n",
    "Generate a random number: secret_number is assigned a random integer between 1 and 100.\n",
    "Initialize attempts and guessed: attempts is set to 0 to count the number of guesses, and guessed is a boolean variable to control the loop.\n",
    "Print welcome messages: The game instructions are printed.\n",
    "Start the while loop: The loop continues until guessed is True.\n",
    "Increment the attempt counter: attempts is incremented by 1 each time the loop runs.\n",
    "Get the user's guess: The program prompts the user to enter a guess.\n",
    "Check the user's guess:\n",
    "If the guess is less than the secret number, print \"Too low!\"\n",
    "If the guess is greater than the secret number, print \"Too high!\"\n",
    "If the guess is correct, set guessed to True and print a congratulatory message with the number of attempts.\n",
    "End the game: Once the loop exits, print \"Game Over!\""
   ]
  }
 ],
 "metadata": {
  "kernelspec": {
   "display_name": "Python 3 (ipykernel)",
   "language": "python",
   "name": "python3"
  },
  "language_info": {
   "codemirror_mode": {
    "name": "ipython",
    "version": 3
   },
   "file_extension": ".py",
   "mimetype": "text/x-python",
   "name": "python",
   "nbconvert_exporter": "python",
   "pygments_lexer": "ipython3",
   "version": "3.11.5"
  }
 },
 "nbformat": 4,
 "nbformat_minor": 5
}
