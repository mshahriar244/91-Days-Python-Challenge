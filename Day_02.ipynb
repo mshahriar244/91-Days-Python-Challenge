{
 "cells": [
  {
   "cell_type": "markdown",
   "id": "8ac23434",
   "metadata": {},
   "source": [
    "# Variables in Python\n",
    "Variables are used to store information to be referenced and manipulated in a program. Python is dynamically typed, meaning you don't need to declare the type of a variable explicitly.\n"
   ]
  },
  {
   "cell_type": "code",
   "execution_count": 2,
   "id": "f7ce48a8",
   "metadata": {},
   "outputs": [
    {
     "name": "stdout",
     "output_type": "stream",
     "text": [
      "5\n",
      "3.14\n",
      "Alice\n",
      "True\n"
     ]
    }
   ],
   "source": [
    "# Variable Assignment\n",
    "x = 5          # Integer\n",
    "y = 3.14       # Float\n",
    "name = \"Alice\" # String\n",
    "is_student = True # Boolean\n",
    "\n",
    "# Printing Variables\n",
    "print(x)\n",
    "print(y)\n",
    "print(name)\n",
    "print(is_student)\n"
   ]
  },
  {
   "cell_type": "markdown",
   "id": "05b7c155",
   "metadata": {},
   "source": [
    "# Data Types in Python\n",
    "Python supports various data types, including integers, floating-point numbers, strings, booleans, lists, tuples, dictionaries, and sets.\n",
    "\n",
    "1. Numeric Data Types\n",
    "Integer (int): Whole numbers, positive or negative.\n",
    "Float (float): Numbers with a decimal point."
   ]
  },
  {
   "cell_type": "code",
   "execution_count": 3,
   "id": "6f0a5e93",
   "metadata": {},
   "outputs": [
    {
     "name": "stdout",
     "output_type": "stream",
     "text": [
      "Integer: 10\n",
      "Float: 3.14159\n"
     ]
    }
   ],
   "source": [
    "# Integer\n",
    "int_value = 10\n",
    "print(\"Integer:\", int_value)\n",
    "\n",
    "# Float\n",
    "float_value = 3.14159\n",
    "print(\"Float:\", float_value)\n"
   ]
  },
  {
   "cell_type": "markdown",
   "id": "2f0aeb1b",
   "metadata": {},
   "source": [
    "# 2. String (str)\n",
    "Strings are sequences of characters. They can be enclosed in single, double, or triple quotes."
   ]
  },
  {
   "cell_type": "code",
   "execution_count": 4,
   "id": "706c770e",
   "metadata": {},
   "outputs": [
    {
     "name": "stdout",
     "output_type": "stream",
     "text": [
      "Hello, World!\n",
      "Hello, World!\n",
      "This is a\n",
      "multiline string\n"
     ]
    }
   ],
   "source": [
    "# Single and Double Quotes\n",
    "single_quoted_string = 'Hello, World!'\n",
    "double_quoted_string = \"Hello, World!\"\n",
    "\n",
    "# Triple Quotes for Multiline Strings\n",
    "multiline_string = \"\"\"This is a\n",
    "multiline string\"\"\"\n",
    "\n",
    "print(single_quoted_string)\n",
    "print(double_quoted_string)\n",
    "print(multiline_string)\n"
   ]
  },
  {
   "cell_type": "markdown",
   "id": "d254e61d",
   "metadata": {},
   "source": [
    "# 3. Boolean (bool)\n",
    "Booleans represent one of two values: True or False."
   ]
  },
  {
   "cell_type": "code",
   "execution_count": 5,
   "id": "ae4d2247",
   "metadata": {},
   "outputs": [
    {
     "name": "stdout",
     "output_type": "stream",
     "text": [
      "Is Active: True\n",
      "Is Logged In: False\n"
     ]
    }
   ],
   "source": [
    "is_active = True\n",
    "is_logged_in = False\n",
    "\n",
    "print(\"Is Active:\", is_active)\n",
    "print(\"Is Logged In:\", is_logged_in)\n"
   ]
  },
  {
   "cell_type": "markdown",
   "id": "00c19099",
   "metadata": {},
   "source": [
    "# Number Operations in Python\n",
    "Python supports basic arithmetic operations."
   ]
  },
  {
   "cell_type": "code",
   "execution_count": 6,
   "id": "42df15d7",
   "metadata": {},
   "outputs": [
    {
     "name": "stdout",
     "output_type": "stream",
     "text": [
      "Addition: 8\n",
      "Subtraction: 2\n",
      "Multiplication: 15\n",
      "Division: 1.6666666666666667\n",
      "Floor Division: 1\n",
      "Modulus: 2\n",
      "Exponentiation: 125\n"
     ]
    }
   ],
   "source": [
    "# Addition\n",
    "addition = 5 + 3\n",
    "print(\"Addition:\", addition)\n",
    "\n",
    "# Subtraction\n",
    "subtraction = 5 - 3\n",
    "print(\"Subtraction:\", subtraction)\n",
    "\n",
    "# Multiplication\n",
    "multiplication = 5 * 3\n",
    "print(\"Multiplication:\", multiplication)\n",
    "\n",
    "# Division\n",
    "division = 5 / 3\n",
    "print(\"Division:\", division)\n",
    "\n",
    "# Floor Division\n",
    "floor_division = 5 // 3\n",
    "print(\"Floor Division:\", floor_division)\n",
    "\n",
    "# Modulus\n",
    "modulus = 5 % 3\n",
    "print(\"Modulus:\", modulus)\n",
    "\n",
    "# Exponentiation\n",
    "exponentiation = 5 ** 3\n",
    "print(\"Exponentiation:\", exponentiation)\n"
   ]
  },
  {
   "cell_type": "markdown",
   "id": "63959146",
   "metadata": {},
   "source": [
    "# Type Conversion\n",
    "Python provides functions to convert data types."
   ]
  },
  {
   "cell_type": "code",
   "execution_count": 7,
   "id": "70acb571",
   "metadata": {},
   "outputs": [
    {
     "name": "stdout",
     "output_type": "stream",
     "text": [
      "Float: 10.0\n"
     ]
    }
   ],
   "source": [
    "# Convert integer to float\n",
    "x = 10\n",
    "x_float = float(x)\n",
    "print(\"Float:\", x_float)"
   ]
  },
  {
   "cell_type": "code",
   "execution_count": 8,
   "id": "fea75e2c",
   "metadata": {},
   "outputs": [
    {
     "name": "stdout",
     "output_type": "stream",
     "text": [
      "Integer: 3\n"
     ]
    }
   ],
   "source": [
    "# Convert float to integer\n",
    "y = 3.14\n",
    "y_int = int(y)\n",
    "print(\"Integer:\", y_int)"
   ]
  },
  {
   "cell_type": "code",
   "execution_count": 9,
   "id": "38a9519f",
   "metadata": {},
   "outputs": [
    {
     "name": "stdout",
     "output_type": "stream",
     "text": [
      "Converted Integer: 123\n"
     ]
    }
   ],
   "source": [
    "# Convert string to integer (if possible)\n",
    "num_str = \"123\"\n",
    "num_int = int(num_str)\n",
    "print(\"Converted Integer:\", num_int)\n"
   ]
  },
  {
   "cell_type": "code",
   "execution_count": 10,
   "id": "03040472",
   "metadata": {},
   "outputs": [
    {
     "name": "stdout",
     "output_type": "stream",
     "text": [
      "Converted String: 10\n"
     ]
    }
   ],
   "source": [
    "# Convert integer to string\n",
    "num_str = str(x)\n",
    "print(\"Converted String:\", num_str)"
   ]
  }
 ],
 "metadata": {
  "kernelspec": {
   "display_name": "Python 3 (ipykernel)",
   "language": "python",
   "name": "python3"
  },
  "language_info": {
   "codemirror_mode": {
    "name": "ipython",
    "version": 3
   },
   "file_extension": ".py",
   "mimetype": "text/x-python",
   "name": "python",
   "nbconvert_exporter": "python",
   "pygments_lexer": "ipython3",
   "version": "3.11.5"
  }
 },
 "nbformat": 4,
 "nbformat_minor": 5
}
