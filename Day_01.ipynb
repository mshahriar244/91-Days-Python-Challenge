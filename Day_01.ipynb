{
 "cells": [
  {
   "cell_type": "code",
   "execution_count": 8,
   "id": "044c4d04",
   "metadata": {},
   "outputs": [
    {
     "name": "stdout",
     "output_type": "stream",
     "text": [
      "Name: Alice\n"
     ]
    }
   ],
   "source": [
    "# String\n",
    "name = \"Alice\"\n",
    "print(f\"Name: {name}\")"
   ]
  },
  {
   "cell_type": "code",
   "execution_count": 9,
   "id": "b4226c63",
   "metadata": {},
   "outputs": [
    {
     "name": "stdout",
     "output_type": "stream",
     "text": [
      "Age: 30\n"
     ]
    }
   ],
   "source": [
    "# Integer\n",
    "age = 30\n",
    "print(f\"Age: {age}\")\n"
   ]
  },
  {
   "cell_type": "code",
   "execution_count": 10,
   "id": "9fc8aad5",
   "metadata": {},
   "outputs": [
    {
     "name": "stdout",
     "output_type": "stream",
     "text": [
      "Height: 5.5\n"
     ]
    }
   ],
   "source": [
    "# Float\n",
    "height = 5.5\n",
    "print(f\"Height: {height}\")"
   ]
  },
  {
   "cell_type": "code",
   "execution_count": 11,
   "id": "7a30dfb8",
   "metadata": {},
   "outputs": [
    {
     "name": "stdout",
     "output_type": "stream",
     "text": [
      "Is Student: True\n"
     ]
    }
   ],
   "source": [
    "# Boolean\n",
    "is_student = True\n",
    "print(f\"Is Student: {is_student}\")"
   ]
  },
  {
   "cell_type": "code",
   "execution_count": 12,
   "id": "bfd14c40",
   "metadata": {},
   "outputs": [
    {
     "name": "stdout",
     "output_type": "stream",
     "text": [
      "Sum: 15\n"
     ]
    }
   ],
   "source": [
    "# Basic Operations\n",
    "\n",
    "# Addition\n",
    "sum_value = 10 + 5\n",
    "print(f\"Sum: {sum_value}\")"
   ]
  },
  {
   "cell_type": "code",
   "execution_count": 13,
   "id": "f6daf5eb",
   "metadata": {},
   "outputs": [
    {
     "name": "stdout",
     "output_type": "stream",
     "text": [
      "Difference: 5\n"
     ]
    }
   ],
   "source": [
    "# Subtraction\n",
    "diff_value = 10 - 5\n",
    "print(f\"Difference: {diff_value}\")\n"
   ]
  },
  {
   "cell_type": "code",
   "execution_count": 14,
   "id": "c862b788",
   "metadata": {},
   "outputs": [
    {
     "name": "stdout",
     "output_type": "stream",
     "text": [
      "Product: 50\n"
     ]
    }
   ],
   "source": [
    "# Multiplication\n",
    "product_value = 10 * 5\n",
    "print(f\"Product: {product_value}\")"
   ]
  },
  {
   "cell_type": "code",
   "execution_count": 15,
   "id": "781fed2c",
   "metadata": {},
   "outputs": [
    {
     "name": "stdout",
     "output_type": "stream",
     "text": [
      "Quotient: 2.0\n"
     ]
    }
   ],
   "source": [
    "# Division\n",
    "quotient_value = 10 / 5\n",
    "print(f\"Quotient: {quotient_value}\")"
   ]
  },
  {
   "cell_type": "code",
   "execution_count": 16,
   "id": "bc39c4ad",
   "metadata": {},
   "outputs": [
    {
     "name": "stdout",
     "output_type": "stream",
     "text": [
      "Numbers List: [1, 2, 3, 4, 5]\n"
     ]
    }
   ],
   "source": [
    "# Lists\n",
    "\n",
    "# List creation\n",
    "numbers = [1, 2, 3, 4, 5]\n",
    "print(f\"Numbers List: {numbers}\")"
   ]
  },
  {
   "cell_type": "code",
   "execution_count": 17,
   "id": "3f1a2df6",
   "metadata": {},
   "outputs": [
    {
     "name": "stdout",
     "output_type": "stream",
     "text": [
      "First Number: 1\n"
     ]
    }
   ],
   "source": [
    "# Accessing elements\n",
    "first_number = numbers[0]\n",
    "print(f\"First Number: {first_number}\")"
   ]
  },
  {
   "cell_type": "code",
   "execution_count": 19,
   "id": "30662773",
   "metadata": {},
   "outputs": [
    {
     "name": "stdout",
     "output_type": "stream",
     "text": [
      "Hello, Alice!\n"
     ]
    }
   ],
   "source": [
    "# Functions\n",
    "\n",
    "# Function definition\n",
    "def greet(name):\n",
    "    # This function returns a greeting string.\n",
    "    return f\"Hello, {name}!\"\n",
    "\n",
    "# Function call\n",
    "greeting = greet(\"Alice\")\n",
    "print(greeting)  # Output: Hello, Alice!"
   ]
  },
  {
   "cell_type": "code",
   "execution_count": 20,
   "id": "6edbf7b7",
   "metadata": {},
   "outputs": [
    {
     "name": "stdout",
     "output_type": "stream",
     "text": [
      "Adult\n"
     ]
    }
   ],
   "source": [
    "# Conditional Statements\n",
    "\n",
    "if age > 18:\n",
    "    print(\"Adult\")\n",
    "else:\n",
    "    print(\"Minor\")\n"
   ]
  },
  {
   "cell_type": "code",
   "execution_count": 21,
   "id": "d199fe72",
   "metadata": {},
   "outputs": [
    {
     "data": {
      "text/plain": [
       "'\\nAnother way to write\\nmultiline comments.\\n'"
      ]
     },
     "execution_count": 21,
     "metadata": {},
     "output_type": "execute_result"
    }
   ],
   "source": [
    "\"\"\"\n",
    "This is a multiline comment.\n",
    "It can span multiple lines.\n",
    "It's often used for documentation purposes.\n",
    "\"\"\"\n",
    "\n",
    "'''\n",
    "Another way to write\n",
    "multiline comments.\n",
    "'''\n",
    "\n",
    "# This is another way to write a multiline comment\n",
    "# by using multiple single-line comments."
   ]
  },
  {
   "cell_type": "code",
   "execution_count": null,
   "id": "6c9aa45f",
   "metadata": {},
   "outputs": [],
   "source": []
  }
 ],
 "metadata": {
  "kernelspec": {
   "display_name": "Python 3 (ipykernel)",
   "language": "python",
   "name": "python3"
  },
  "language_info": {
   "codemirror_mode": {
    "name": "ipython",
    "version": 3
   },
   "file_extension": ".py",
   "mimetype": "text/x-python",
   "name": "python",
   "nbconvert_exporter": "python",
   "pygments_lexer": "ipython3",
   "version": "3.11.5"
  }
 },
 "nbformat": 4,
 "nbformat_minor": 5
}
