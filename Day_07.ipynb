{
 "cells": [
  {
   "cell_type": "raw",
   "id": "26b0971d",
   "metadata": {},
   "source": [
    "A Python function is a reusable block of code that performs a specific task. Functions help organize and modularize code, making it more readable and maintainable. They are defined using the def keyword followed by the function name and parentheses (). Parameters can be included within the parentheses to pass values to the function.\n",
    "\n",
    "Here's a comprehensive example:"
   ]
  },
  {
   "cell_type": "markdown",
   "id": "0f49250c",
   "metadata": {},
   "source": [
    "# Basic Function\n",
    "Let's start with a simple function that adds two numbers:"
   ]
  },
  {
   "cell_type": "code",
   "execution_count": 2,
   "id": "1c170641",
   "metadata": {},
   "outputs": [],
   "source": [
    "def add_numbers(a, b):\n",
    "    result = a + b\n",
    "    return result\n"
   ]
  },
  {
   "cell_type": "raw",
   "id": "f4d2d8ab",
   "metadata": {},
   "source": [
    "# You can call this function and pass two numbers as arguments:"
   ]
  },
  {
   "cell_type": "code",
   "execution_count": 4,
   "id": "16872230",
   "metadata": {},
   "outputs": [
    {
     "name": "stdout",
     "output_type": "stream",
     "text": [
      "8\n"
     ]
    }
   ],
   "source": [
    "sum = add_numbers(3, 5)\n",
    "print(sum)  # Output: 8\n"
   ]
  },
  {
   "cell_type": "markdown",
   "id": "3de0d264",
   "metadata": {},
   "source": [
    "# Function with Default Parameters\n",
    "A function can have default parameter values. If no argument is provided, the default value is used:"
   ]
  },
  {
   "cell_type": "code",
   "execution_count": 5,
   "id": "86990cb6",
   "metadata": {},
   "outputs": [
    {
     "name": "stdout",
     "output_type": "stream",
     "text": [
      "Hello, Alice!\n",
      "Hi, Bob!\n"
     ]
    }
   ],
   "source": [
    "def greet(name, greeting=\"Hello\"):\n",
    "    return f\"{greeting}, {name}!\"\n",
    "\n",
    "print(greet(\"Alice\"))            # Output: Hello, Alice!\n",
    "print(greet(\"Bob\", \"Hi\"))        # Output: Hi, Bob!\n"
   ]
  },
  {
   "cell_type": "raw",
   "id": "9aa9c453",
   "metadata": {},
   "source": [
    "Function with Keyword Arguments\n",
    "You can call functions using keyword arguments, which makes the function call more readable:"
   ]
  },
  {
   "cell_type": "code",
   "execution_count": 6,
   "id": "11b2e3c8",
   "metadata": {},
   "outputs": [
    {
     "name": "stdout",
     "output_type": "stream",
     "text": [
      "Charlie is 30 years old and lives in New York.\n"
     ]
    }
   ],
   "source": [
    "def describe_person(name, age, city):\n",
    "    return f\"{name} is {age} years old and lives in {city}.\"\n",
    "\n",
    "print(describe_person(name=\"Charlie\", age=30, city=\"New York\"))\n",
    "# Output: Charlie is 30 years old and lives in New York.\n"
   ]
  },
  {
   "cell_type": "raw",
   "id": "fafaafae",
   "metadata": {},
   "source": [
    "Function with Variable Number of Arguments\n",
    "Functions can accept a variable number of positional and keyword arguments using *args and **kwargs:"
   ]
  },
  {
   "cell_type": "code",
   "execution_count": 17,
   "id": "2064fa53",
   "metadata": {},
   "outputs": [
    {
     "name": "stdout",
     "output_type": "stream",
     "text": [
      "name: David\n",
      "age: 25\n",
      "city: London\n"
     ]
    }
   ],
   "source": [
    "def print_details(**kwargs):\n",
    "    for key, value in kwargs.items():\n",
    "        print(f\"{key}: {value}\")\n",
    "\n",
    "print_details(name=\"David\", age=25, city=\"London\")\n",
    "# Output:\n",
    "# name: David\n",
    "# age: 25\n",
    "# city: London\n"
   ]
  },
  {
   "cell_type": "markdown",
   "id": "c224bacf",
   "metadata": {},
   "source": [
    "# Lambda Functions\n",
    "Python also supports anonymous functions, called lambda functions. These are small, single-line functions that are defined using the lambda keyword:"
   ]
  },
  {
   "cell_type": "code",
   "execution_count": 18,
   "id": "fdd5713d",
   "metadata": {},
   "outputs": [
    {
     "name": "stdout",
     "output_type": "stream",
     "text": [
      "20\n"
     ]
    }
   ],
   "source": [
    "multiply = lambda x, y: x * y\n",
    "print(multiply(4, 5))  # Output: 20\n"
   ]
  },
  {
   "cell_type": "markdown",
   "id": "062257c6",
   "metadata": {},
   "source": [
    "# Recursive Function\n",
    "A function can call itself; this is known as recursion. Here's an example of a recursive function to calculate the factorial of a number:"
   ]
  },
  {
   "cell_type": "code",
   "execution_count": 20,
   "id": "e9ad5aaf",
   "metadata": {},
   "outputs": [
    {
     "name": "stdout",
     "output_type": "stream",
     "text": [
      "120\n"
     ]
    }
   ],
   "source": [
    "def factorial(n):\n",
    "    if n == 0:\n",
    "        return 1\n",
    "    else:\n",
    "        return n * factorial(n - 1)\n",
    "\n",
    "print(factorial(5))  # Output: 120\n"
   ]
  },
  {
   "cell_type": "markdown",
   "id": "4aa7fba3",
   "metadata": {},
   "source": [
    "# Documentation and Type Hints\n",
    "Functions can have documentation strings (docstrings) and type hints for better readability and maintainability:"
   ]
  },
  {
   "cell_type": "code",
   "execution_count": 21,
   "id": "162086c4",
   "metadata": {},
   "outputs": [
    {
     "name": "stdout",
     "output_type": "stream",
     "text": [
      "5.0\n"
     ]
    }
   ],
   "source": [
    "def divide(a: float, b: float) -> float:\n",
    "    \"\"\"\n",
    "    Divide two numbers.\n",
    "\n",
    "    Parameters:\n",
    "    a (float): The numerator.\n",
    "    b (float): The denominator.\n",
    "\n",
    "    Returns:\n",
    "    float: The result of the division.\n",
    "    \"\"\"\n",
    "    if b == 0:\n",
    "        raise ValueError(\"The denominator cannot be zero.\")\n",
    "    return a / b\n",
    "\n",
    "print(divide(10.0, 2.0))  # Output: 5.0\n"
   ]
  }
 ],
 "metadata": {
  "kernelspec": {
   "display_name": "Python 3 (ipykernel)",
   "language": "python",
   "name": "python3"
  },
  "language_info": {
   "codemirror_mode": {
    "name": "ipython",
    "version": 3
   },
   "file_extension": ".py",
   "mimetype": "text/x-python",
   "name": "python",
   "nbconvert_exporter": "python",
   "pygments_lexer": "ipython3",
   "version": "3.11.5"
  }
 },
 "nbformat": 4,
 "nbformat_minor": 5
}
