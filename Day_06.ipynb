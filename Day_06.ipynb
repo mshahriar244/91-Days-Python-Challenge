{
 "cells": [
  {
   "cell_type": "markdown",
   "id": "485b3cd3",
   "metadata": {},
   "source": [
    "# For Loop\n",
    "A for loop in Python is used to iterate over a sequence (like a list, tuple, dictionary, set, or string) or other iterable objects. This allows you to execute a block of code multiple times, once for each item in the sequence."
   ]
  },
  {
   "cell_type": "markdown",
   "id": "d19045d4",
   "metadata": {},
   "source": [
    "# Syntax\n",
    "The basic syntax of a for loop is:"
   ]
  },
  {
   "cell_type": "code",
   "execution_count": null,
   "id": "42b0c26f",
   "metadata": {},
   "outputs": [],
   "source": [
    "for item in iterable:\n",
    "    # Do something with item\n"
   ]
  },
  {
   "cell_type": "raw",
   "id": "13647cce",
   "metadata": {},
   "source": [
    "# Here, item is a variable that takes the value of each element in the iterable (like a list or string), one at a time, and the loop continues until all elements in the iterable have been processed.\n",
    "\n",
    "Example 1: Iterating Over a List"
   ]
  },
  {
   "cell_type": "code",
   "execution_count": 3,
   "id": "e6488f08",
   "metadata": {},
   "outputs": [
    {
     "name": "stdout",
     "output_type": "stream",
     "text": [
      "apple\n",
      "banana\n",
      "cherry\n"
     ]
    }
   ],
   "source": [
    "fruits = [\"apple\", \"banana\", \"cherry\"]\n",
    "\n",
    "for fruit in fruits:\n",
    "    print(fruit)\n"
   ]
  },
  {
   "cell_type": "markdown",
   "id": "9dd6ac46",
   "metadata": {},
   "source": [
    "# Example 2: Iterating Over a String"
   ]
  },
  {
   "cell_type": "code",
   "execution_count": 4,
   "id": "d7dd6e06",
   "metadata": {},
   "outputs": [
    {
     "name": "stdout",
     "output_type": "stream",
     "text": [
      "h\n",
      "e\n",
      "l\n",
      "l\n",
      "o\n"
     ]
    }
   ],
   "source": [
    "word = \"hello\"\n",
    "\n",
    "for letter in word:\n",
    "    print(letter)\n"
   ]
  },
  {
   "cell_type": "markdown",
   "id": "49d51366",
   "metadata": {},
   "source": [
    "# Example 3: Using range() in a For Loop\n",
    "The range() function is often used with a for loop to generate a sequence of numbers."
   ]
  },
  {
   "cell_type": "code",
   "execution_count": 5,
   "id": "c36cd9a0",
   "metadata": {},
   "outputs": [
    {
     "name": "stdout",
     "output_type": "stream",
     "text": [
      "0\n",
      "1\n",
      "2\n",
      "3\n",
      "4\n"
     ]
    }
   ],
   "source": [
    "for i in range(5):\n",
    "    print(i)\n"
   ]
  },
  {
   "cell_type": "markdown",
   "id": "e843798e",
   "metadata": {},
   "source": [
    "# Example 4: Iterating Over a Dictionary"
   ]
  },
  {
   "cell_type": "code",
   "execution_count": 6,
   "id": "641370b6",
   "metadata": {},
   "outputs": [
    {
     "name": "stdout",
     "output_type": "stream",
     "text": [
      "Alice is 23 years old.\n",
      "Bob is 22 years old.\n",
      "Charlie is 24 years old.\n"
     ]
    }
   ],
   "source": [
    "student_ages = {\"Alice\": 23, \"Bob\": 22, \"Charlie\": 24}\n",
    "\n",
    "for name, age in student_ages.items():\n",
    "    print(f\"{name} is {age} years old.\")\n"
   ]
  },
  {
   "cell_type": "raw",
   "id": "4c68974a",
   "metadata": {},
   "source": [
    "These are few example.only you need to practice in different way"
   ]
  },
  {
   "cell_type": "code",
   "execution_count": null,
   "id": "8bfcdb0f",
   "metadata": {},
   "outputs": [],
   "source": []
  }
 ],
 "metadata": {
  "kernelspec": {
   "display_name": "Python 3 (ipykernel)",
   "language": "python",
   "name": "python3"
  },
  "language_info": {
   "codemirror_mode": {
    "name": "ipython",
    "version": 3
   },
   "file_extension": ".py",
   "mimetype": "text/x-python",
   "name": "python",
   "nbconvert_exporter": "python",
   "pygments_lexer": "ipython3",
   "version": "3.11.5"
  }
 },
 "nbformat": 4,
 "nbformat_minor": 5
}
